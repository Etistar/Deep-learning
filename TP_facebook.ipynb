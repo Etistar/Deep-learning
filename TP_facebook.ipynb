{
 "cells": [
  {
   "cell_type": "code",
   "execution_count": 22,
   "metadata": {},
   "outputs": [],
   "source": [
    "import pandas as pd\n",
    "data=pd.read_excel(\"C:/Users/ETISTAR/Documents/Facebook_2.xlsx\",decimal='.')"
   ]
  },
  {
   "cell_type": "markdown",
   "metadata": {},
   "source": [
    "# Subdivision des données en test et apprentissage"
   ]
  },
  {
   "cell_type": "code",
   "execution_count": 119,
   "metadata": {},
   "outputs": [
    {
     "data": {
      "text/plain": [
       "((107, 5), (47, 5), (154, 5))"
      ]
     },
     "execution_count": 119,
     "metadata": {},
     "output_type": "execute_result"
    }
   ],
   "source": [
    "Aime=data.Aimé\n",
    "Qui=data['Qui a posté?']\n",
    "\n",
    "Quand=data['Quand?']\n",
    "\n",
    "Nature=data['Nature du post']\n",
    "\n",
    "Reaction=data['Réactions des autres']\n",
    "\n",
    "Sujet=data['Sujet']\n",
    "\n",
    "data_facebook=pd.DataFrame({\"Qui\":Qui,\"Quand\":Quand,\"Nature\":Nature,\"Reaction\":Reaction,\"Sujet\":Sujet})\n",
    "\n",
    "from sklearn.model_selection import train_test_split\n",
    "X_train, X_test, y_train, y_test = train_test_split(data_facebook, Aime, test_size=0.3, random_state=0)\n",
    "X_train.shape,X_test.shape,data_facebook.shape\n",
    "\n"
   ]
  },
  {
   "cell_type": "markdown",
   "metadata": {},
   "source": [
    "# Fonction apprentissage"
   ]
  },
  {
   "cell_type": "code",
   "execution_count": 135,
   "metadata": {},
   "outputs": [],
   "source": [
    "import numpy as np\n",
    "import math as m\n",
    "def Reseau(data_facebook,Aime):\n",
    "    alpha=1\n",
    "    erreur_new=0\n",
    "    error=len(data_facebook)\n",
    "    k=len(data_facebook.iloc[1,])\n",
    "    Poids=np.random.uniform(0,10,k)\n",
    "    Poids_new=Poids\n",
    "    itera=0\n",
    "    while error>0 and itera<100:\n",
    "        itera=itera+1\n",
    "        error=0\n",
    "        table=[]\n",
    "        table_erreur=[]\n",
    "        for j in range(len(data_facebook)):\n",
    "            O=0\n",
    "            for i in range(k):\n",
    "                O=Poids[i]*data_facebook.iloc[j,][i]+O #Calcul de somme des Pi*xi\n",
    "            valeur_predi=2/(1+m.exp(-2*O+1 ))#Valeur prédite avec la fonction logistique#1.9999999999\n",
    "            if valeur_predi>1: \n",
    "                y_predi=1\n",
    "            else: y_predi=0\n",
    "            if y_predi==Aime.iloc[j]:\n",
    "                error=error+0\n",
    "            else:\n",
    "                somme=0\n",
    "                for i in range(k):\n",
    "                    Poids_new[i]=Poids[i]+(alpha*O*Poids[i])\n",
    "                for i in range(k):\n",
    "                    Poids_new[i]=Poids_new[i]/np.linalg.norm(Poids_new[i])\n",
    "\n",
    "#                 somme=0\n",
    "#                 for i in range(k):\n",
    "#                     somme=(1+Poids[i])*data_facebook.iloc[j,][i]+somme\n",
    "#                 for i in range(k):\n",
    "#                     Poids_new[i]=(data_facebook.iloc[j,][i]+O)/somme\n",
    "\n",
    "##Calcul de nouveaux poidscar la prédiction n'est pas bonne\n",
    "                error=error+1#Ajoute une mauvaise nouvelle valeur si la nouvelle valeur n'est pas bien prédite\n",
    "                Poids=Poids_new\n",
    "            #alpha=error/len(data_facebook)\n",
    "            table.append(y_predi)\n",
    "            table_erreur.append(error)\n",
    "            erreur=error/len(data_facebook)\n",
    "            alpha=error/len(data_facebook)\n",
    "    return Poids,1-erreur\n",
    "\n"
   ]
  },
  {
   "cell_type": "code",
   "execution_count": 136,
   "metadata": {},
   "outputs": [
    {
     "data": {
      "text/plain": [
       "0.5233644859813085"
      ]
     },
     "execution_count": 136,
     "metadata": {},
     "output_type": "execute_result"
    }
   ],
   "source": [
    "Poids,score_apprentissage=Reseau(X_train,y_train)\n",
    "score_apprentissage"
   ]
  },
  {
   "cell_type": "markdown",
   "metadata": {},
   "source": [
    "# Fonction test"
   ]
  },
  {
   "cell_type": "code",
   "execution_count": 127,
   "metadata": {},
   "outputs": [],
   "source": [
    "def Reseau_verification(data_facebook,Aime,Poids):\n",
    "    erreur_new=0\n",
    "    error=len(data_facebook)\n",
    "    k=len(data_facebook.iloc[1,])\n",
    "    itera=0\n",
    "    while error>0 and itera<100:\n",
    "        itera=itera+1\n",
    "        error=0\n",
    "        table=[]\n",
    "        table_erreur=[]\n",
    "        for j in range(len(data_facebook)):\n",
    "            O=0\n",
    "            for i in range(k):\n",
    "                O=Poids[i]*data_facebook.iloc[j,][i]+O #Calcul de somme des Pi*xi\n",
    "            valeur_predi=2/(1+m.exp(-2*O+1 ))#Valeur prédite avec la fonction logistique#1.9999999999\n",
    "            if valeur_predi>1: \n",
    "                y_predi=1\n",
    "            else: y_predi=0\n",
    "            if y_predi==Aime.iloc[j]:\n",
    "                error=error+0\n",
    "            else:\n",
    "                error=error+1#Ajoute une mauvaise nouvelle valeur si la nouvelle valeur n'est pas bien prédite\n",
    "\n",
    "            table.append(y_predi)\n",
    "            table_erreur.append(error)\n",
    "            erreur=error/len(data_facebook)\n",
    "    return Poids,1-erreur\n",
    "\n",
    "\n",
    "    "
   ]
  },
  {
   "cell_type": "code",
   "execution_count": 134,
   "metadata": {},
   "outputs": [
    {
     "data": {
      "text/plain": [
       "0.42553191489361697"
      ]
     },
     "execution_count": 134,
     "metadata": {},
     "output_type": "execute_result"
    }
   ],
   "source": [
    "Poids,score_test=Reseau_verification(X_test,y_test,Poids)\n",
    "score_test"
   ]
  },
  {
   "cell_type": "code",
   "execution_count": null,
   "metadata": {},
   "outputs": [],
   "source": [
    "#Notre score pour les données de test sont de 0.52 et pour le test est de 0.52. Bizarre, nous sommes en sous_apprentissage\n",
    "#Peut faire "
   ]
  }
 ],
 "metadata": {
  "kernelspec": {
   "display_name": "Python 3",
   "language": "python",
   "name": "python3"
  },
  "language_info": {
   "codemirror_mode": {
    "name": "ipython",
    "version": 3
   },
   "file_extension": ".py",
   "mimetype": "text/x-python",
   "name": "python",
   "nbconvert_exporter": "python",
   "pygments_lexer": "ipython3",
   "version": "3.6.7"
  }
 },
 "nbformat": 4,
 "nbformat_minor": 2
}
